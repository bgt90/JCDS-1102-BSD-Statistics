{
 "metadata": {
  "language_info": {
   "codemirror_mode": {
    "name": "ipython",
    "version": 3
   },
   "file_extension": ".py",
   "mimetype": "text/x-python",
   "name": "python",
   "nbconvert_exporter": "python",
   "pygments_lexer": "ipython3",
   "version": "3.8.3-final"
  },
  "orig_nbformat": 2,
  "kernelspec": {
   "name": "python3",
   "display_name": "Python 3"
  }
 },
 "nbformat": 4,
 "nbformat_minor": 2,
 "cells": [
  {
   "source": [
    "# Basic Statisctics 1\n",
    "<hr>"
   ],
   "cell_type": "markdown",
   "metadata": {}
  },
  {
   "source": [
    "## What is Statistics?\n",
    "\n",
    "Statistic could be described as methodology for collecting, analyzing, interpreting, and drawing conclusion from data.  \n",
    "Furthermore, Statistics is the art and science of designing studies and analyzing the data that those studies produce. Its ultimate goal is translating data into knowledge and understanding of the world around us. In short, statistics is the art and science of learning from data"
   ],
   "cell_type": "markdown",
   "metadata": {}
  },
  {
   "source": [
    "## ``Topic:``\n",
    "\n",
    "#### 1. **Descriptive Analysis** \n",
    "#### 2. **Distribution**\n",
    "#### 3. **Correlation**\n",
    "##### 4. **Hypothesis Testing**\n",
    "\n",
    "\n",
    "<hr>"
   ],
   "cell_type": "markdown",
   "metadata": {}
  },
  {
   "source": [
    "## Descriptive Statistics\n",
    "\n",
    "From Wikipedia:\n",
    "> A descriptive statistic (in the count noun sense) is a summary statistic that **quantitatively describes** or summarizes features from a collection of information,while descriptive statistics (in the mass noun sense) is the process of using and analysing those statistics.  \n",
    "\n"
   ],
   "cell_type": "markdown",
   "metadata": {}
  },
  {
   "cell_type": "code",
   "execution_count": 1,
   "metadata": {},
   "outputs": [],
   "source": [
    "import pandas as pd\n",
    "import numpy as np\n",
    "import statistics as st"
   ]
  },
  {
   "cell_type": "code",
   "execution_count": 2,
   "metadata": {},
   "outputs": [
    {
     "output_type": "execute_result",
     "data": {
      "text/plain": [
       "   Id       EmployeeName                                        JobTitle  \\\n",
       "0   1     NATHANIEL FORD  GENERAL MANAGER-METROPOLITAN TRANSIT AUTHORITY   \n",
       "1   2       GARY JIMENEZ                 CAPTAIN III (POLICE DEPARTMENT)   \n",
       "2   3     ALBERT PARDINI                 CAPTAIN III (POLICE DEPARTMENT)   \n",
       "3   4  CHRISTOPHER CHONG            WIRE ROPE CABLE MAINTENANCE MECHANIC   \n",
       "4   5    PATRICK GARDNER    DEPUTY CHIEF OF DEPARTMENT,(FIRE DEPARTMENT)   \n",
       "\n",
       "     BasePay  OvertimePay   OtherPay  Benefits   TotalPay  TotalPayBenefits  \\\n",
       "0  167411.18         0.00  400184.25       NaN  567595.43         567595.43   \n",
       "1  155966.02    245131.88  137811.38       NaN  538909.28         538909.28   \n",
       "2  212739.13    106088.18   16452.60       NaN  335279.91         335279.91   \n",
       "3   77916.00     56120.71  198306.90       NaN  332343.61         332343.61   \n",
       "4  134401.60      9737.00  182234.59       NaN  326373.19         326373.19   \n",
       "\n",
       "   Year  Notes         Agency  Status  \n",
       "0  2011    NaN  San Francisco     NaN  \n",
       "1  2011    NaN  San Francisco     NaN  \n",
       "2  2011    NaN  San Francisco     NaN  \n",
       "3  2011    NaN  San Francisco     NaN  \n",
       "4  2011    NaN  San Francisco     NaN  "
      ],
      "text/html": "<div>\n<style scoped>\n    .dataframe tbody tr th:only-of-type {\n        vertical-align: middle;\n    }\n\n    .dataframe tbody tr th {\n        vertical-align: top;\n    }\n\n    .dataframe thead th {\n        text-align: right;\n    }\n</style>\n<table border=\"1\" class=\"dataframe\">\n  <thead>\n    <tr style=\"text-align: right;\">\n      <th></th>\n      <th>Id</th>\n      <th>EmployeeName</th>\n      <th>JobTitle</th>\n      <th>BasePay</th>\n      <th>OvertimePay</th>\n      <th>OtherPay</th>\n      <th>Benefits</th>\n      <th>TotalPay</th>\n      <th>TotalPayBenefits</th>\n      <th>Year</th>\n      <th>Notes</th>\n      <th>Agency</th>\n      <th>Status</th>\n    </tr>\n  </thead>\n  <tbody>\n    <tr>\n      <th>0</th>\n      <td>1</td>\n      <td>NATHANIEL FORD</td>\n      <td>GENERAL MANAGER-METROPOLITAN TRANSIT AUTHORITY</td>\n      <td>167411.18</td>\n      <td>0.00</td>\n      <td>400184.25</td>\n      <td>NaN</td>\n      <td>567595.43</td>\n      <td>567595.43</td>\n      <td>2011</td>\n      <td>NaN</td>\n      <td>San Francisco</td>\n      <td>NaN</td>\n    </tr>\n    <tr>\n      <th>1</th>\n      <td>2</td>\n      <td>GARY JIMENEZ</td>\n      <td>CAPTAIN III (POLICE DEPARTMENT)</td>\n      <td>155966.02</td>\n      <td>245131.88</td>\n      <td>137811.38</td>\n      <td>NaN</td>\n      <td>538909.28</td>\n      <td>538909.28</td>\n      <td>2011</td>\n      <td>NaN</td>\n      <td>San Francisco</td>\n      <td>NaN</td>\n    </tr>\n    <tr>\n      <th>2</th>\n      <td>3</td>\n      <td>ALBERT PARDINI</td>\n      <td>CAPTAIN III (POLICE DEPARTMENT)</td>\n      <td>212739.13</td>\n      <td>106088.18</td>\n      <td>16452.60</td>\n      <td>NaN</td>\n      <td>335279.91</td>\n      <td>335279.91</td>\n      <td>2011</td>\n      <td>NaN</td>\n      <td>San Francisco</td>\n      <td>NaN</td>\n    </tr>\n    <tr>\n      <th>3</th>\n      <td>4</td>\n      <td>CHRISTOPHER CHONG</td>\n      <td>WIRE ROPE CABLE MAINTENANCE MECHANIC</td>\n      <td>77916.00</td>\n      <td>56120.71</td>\n      <td>198306.90</td>\n      <td>NaN</td>\n      <td>332343.61</td>\n      <td>332343.61</td>\n      <td>2011</td>\n      <td>NaN</td>\n      <td>San Francisco</td>\n      <td>NaN</td>\n    </tr>\n    <tr>\n      <th>4</th>\n      <td>5</td>\n      <td>PATRICK GARDNER</td>\n      <td>DEPUTY CHIEF OF DEPARTMENT,(FIRE DEPARTMENT)</td>\n      <td>134401.60</td>\n      <td>9737.00</td>\n      <td>182234.59</td>\n      <td>NaN</td>\n      <td>326373.19</td>\n      <td>326373.19</td>\n      <td>2011</td>\n      <td>NaN</td>\n      <td>San Francisco</td>\n      <td>NaN</td>\n    </tr>\n  </tbody>\n</table>\n</div>"
     },
     "metadata": {},
     "execution_count": 2
    }
   ],
   "source": [
    "df=pd.read_csv('Salaries.csv')\n",
    "df.head()"
   ]
  },
  {
   "cell_type": "code",
   "execution_count": 4,
   "metadata": {},
   "outputs": [
    {
     "output_type": "execute_result",
     "data": {
      "text/plain": [
       "                  Id        BasePay    OvertimePay       OtherPay  \\\n",
       "count  148654.000000  148045.000000  148650.000000  148650.000000   \n",
       "mean    74327.500000   66325.448841    5066.059886    3648.767297   \n",
       "std     42912.857795   42764.635495   11454.380559    8056.601866   \n",
       "min         1.000000    -166.010000      -0.010000   -7058.590000   \n",
       "25%     37164.250000   33588.200000       0.000000       0.000000   \n",
       "50%     74327.500000   65007.450000       0.000000     811.270000   \n",
       "75%    111490.750000   94691.050000    4658.175000    4236.065000   \n",
       "max    148654.000000  319275.010000  245131.880000  400184.250000   \n",
       "\n",
       "            Benefits       TotalPay  TotalPayBenefits           Year  Notes  \\\n",
       "count  112491.000000  148654.000000     148654.000000  148654.000000    0.0   \n",
       "mean    25007.893151   74768.321972      93692.554811    2012.522643    NaN   \n",
       "std     15402.215858   50517.005274      62793.533483       1.117538    NaN   \n",
       "min       -33.890000    -618.130000       -618.130000    2011.000000    NaN   \n",
       "25%     11535.395000   36168.995000      44065.650000    2012.000000    NaN   \n",
       "50%     28628.620000   71426.610000      92404.090000    2013.000000    NaN   \n",
       "75%     35566.855000  105839.135000     132876.450000    2014.000000    NaN   \n",
       "max     96570.660000  567595.430000     567595.430000    2014.000000    NaN   \n",
       "\n",
       "       Status  \n",
       "count     0.0  \n",
       "mean      NaN  \n",
       "std       NaN  \n",
       "min       NaN  \n",
       "25%       NaN  \n",
       "50%       NaN  \n",
       "75%       NaN  \n",
       "max       NaN  "
      ],
      "text/html": "<div>\n<style scoped>\n    .dataframe tbody tr th:only-of-type {\n        vertical-align: middle;\n    }\n\n    .dataframe tbody tr th {\n        vertical-align: top;\n    }\n\n    .dataframe thead th {\n        text-align: right;\n    }\n</style>\n<table border=\"1\" class=\"dataframe\">\n  <thead>\n    <tr style=\"text-align: right;\">\n      <th></th>\n      <th>Id</th>\n      <th>BasePay</th>\n      <th>OvertimePay</th>\n      <th>OtherPay</th>\n      <th>Benefits</th>\n      <th>TotalPay</th>\n      <th>TotalPayBenefits</th>\n      <th>Year</th>\n      <th>Notes</th>\n      <th>Status</th>\n    </tr>\n  </thead>\n  <tbody>\n    <tr>\n      <th>count</th>\n      <td>148654.000000</td>\n      <td>148045.000000</td>\n      <td>148650.000000</td>\n      <td>148650.000000</td>\n      <td>112491.000000</td>\n      <td>148654.000000</td>\n      <td>148654.000000</td>\n      <td>148654.000000</td>\n      <td>0.0</td>\n      <td>0.0</td>\n    </tr>\n    <tr>\n      <th>mean</th>\n      <td>74327.500000</td>\n      <td>66325.448841</td>\n      <td>5066.059886</td>\n      <td>3648.767297</td>\n      <td>25007.893151</td>\n      <td>74768.321972</td>\n      <td>93692.554811</td>\n      <td>2012.522643</td>\n      <td>NaN</td>\n      <td>NaN</td>\n    </tr>\n    <tr>\n      <th>std</th>\n      <td>42912.857795</td>\n      <td>42764.635495</td>\n      <td>11454.380559</td>\n      <td>8056.601866</td>\n      <td>15402.215858</td>\n      <td>50517.005274</td>\n      <td>62793.533483</td>\n      <td>1.117538</td>\n      <td>NaN</td>\n      <td>NaN</td>\n    </tr>\n    <tr>\n      <th>min</th>\n      <td>1.000000</td>\n      <td>-166.010000</td>\n      <td>-0.010000</td>\n      <td>-7058.590000</td>\n      <td>-33.890000</td>\n      <td>-618.130000</td>\n      <td>-618.130000</td>\n      <td>2011.000000</td>\n      <td>NaN</td>\n      <td>NaN</td>\n    </tr>\n    <tr>\n      <th>25%</th>\n      <td>37164.250000</td>\n      <td>33588.200000</td>\n      <td>0.000000</td>\n      <td>0.000000</td>\n      <td>11535.395000</td>\n      <td>36168.995000</td>\n      <td>44065.650000</td>\n      <td>2012.000000</td>\n      <td>NaN</td>\n      <td>NaN</td>\n    </tr>\n    <tr>\n      <th>50%</th>\n      <td>74327.500000</td>\n      <td>65007.450000</td>\n      <td>0.000000</td>\n      <td>811.270000</td>\n      <td>28628.620000</td>\n      <td>71426.610000</td>\n      <td>92404.090000</td>\n      <td>2013.000000</td>\n      <td>NaN</td>\n      <td>NaN</td>\n    </tr>\n    <tr>\n      <th>75%</th>\n      <td>111490.750000</td>\n      <td>94691.050000</td>\n      <td>4658.175000</td>\n      <td>4236.065000</td>\n      <td>35566.855000</td>\n      <td>105839.135000</td>\n      <td>132876.450000</td>\n      <td>2014.000000</td>\n      <td>NaN</td>\n      <td>NaN</td>\n    </tr>\n    <tr>\n      <th>max</th>\n      <td>148654.000000</td>\n      <td>319275.010000</td>\n      <td>245131.880000</td>\n      <td>400184.250000</td>\n      <td>96570.660000</td>\n      <td>567595.430000</td>\n      <td>567595.430000</td>\n      <td>2014.000000</td>\n      <td>NaN</td>\n      <td>NaN</td>\n    </tr>\n  </tbody>\n</table>\n</div>"
     },
     "metadata": {},
     "execution_count": 4
    }
   ],
   "source": [
    "#.describe for descriptive statistics summary in Pandas\n",
    "df.describe()"
   ]
  },
  {
   "cell_type": "code",
   "execution_count": 5,
   "metadata": {},
   "outputs": [
    {
     "output_type": "execute_result",
     "data": {
      "text/plain": [
       "Id                  148654\n",
       "EmployeeName        148654\n",
       "JobTitle            148654\n",
       "BasePay             148045\n",
       "OvertimePay         148650\n",
       "OtherPay            148650\n",
       "Benefits            112491\n",
       "TotalPay            148654\n",
       "TotalPayBenefits    148654\n",
       "Year                148654\n",
       "Notes                    0\n",
       "Agency              148654\n",
       "Status                   0\n",
       "dtype: int64"
      ]
     },
     "metadata": {},
     "execution_count": 5
    }
   ],
   "source": [
    "#or with methods\n",
    "df.count()"
   ]
  },
  {
   "cell_type": "code",
   "execution_count": 6,
   "metadata": {},
   "outputs": [
    {
     "output_type": "execute_result",
     "data": {
      "text/plain": [
       "Id                                 1\n",
       "EmployeeName        A BERNARD FATOOH\n",
       "JobTitle               ACCOUNT CLERK\n",
       "BasePay                      -166.01\n",
       "OvertimePay                    -0.01\n",
       "OtherPay                    -7058.59\n",
       "Benefits                      -33.89\n",
       "TotalPay                     -618.13\n",
       "TotalPayBenefits             -618.13\n",
       "Year                            2011\n",
       "Notes                           None\n",
       "Agency                 San Francisco\n",
       "Status                          None\n",
       "dtype: object"
      ]
     },
     "metadata": {},
     "execution_count": 6
    }
   ],
   "source": [
    "df.min()"
   ]
  },
  {
   "source": [
    "## There are 2 types of descriptive statistics:\n",
    "\n",
    "### 1. Central tendencies\n",
    "It is the way of describing the central position of a frequency distribution for a group of data. We can describe it by using, for example Mean, Median, Mode.\n",
    "\n",
    "This measurement assume that the sample measurement is corresponding to the population measures of center, which are unknown. The sample measurement can be used to estimate this unknown parameter.\n",
    "\n",
    "\n"
   ],
   "cell_type": "markdown",
   "metadata": {}
  },
  {
   "source": [
    "### **a. Mean**\n",
    "Mean is the arithmetic average of the data it operates on.   \n",
    "``Digunakan untuk data terdistribusi normal dan tidak ada outliers.``\n",
    "``Seluruh data dijumlahkan, kemudian dibagi dengan jumlah data.``"
   ],
   "cell_type": "markdown",
   "metadata": {}
  },
  {
   "cell_type": "code",
   "execution_count": 13,
   "metadata": {},
   "outputs": [
    {
     "output_type": "execute_result",
     "data": {
      "text/plain": [
       "66325.44884050643"
      ]
     },
     "metadata": {},
     "execution_count": 13
    }
   ],
   "source": [
    "df['BasePay'].mean()"
   ]
  },
  {
   "cell_type": "code",
   "execution_count": 15,
   "metadata": {},
   "outputs": [
    {
     "output_type": "execute_result",
     "data": {
      "text/plain": [
       "4.5"
      ]
     },
     "metadata": {},
     "execution_count": 15
    }
   ],
   "source": [
    "data = [1,2,3,5,7,9]\n",
    "st.mean(data)"
   ]
  },
  {
   "source": [
    "### **b. Median**\n",
    "For data of odd length, the median the middle item; for that of even length, it is the average of the two middle items. ``Digunakan untuk data yang kurang/tidak berdistribusi normal atau ada data outliers (data yang terlalu menyimpang/ekstrim). Cara menghitung: data diurutkan, kemudian diambil titik tengahnya (50% dari urutan)``"
   ],
   "cell_type": "markdown",
   "metadata": {}
  },
  {
   "cell_type": "code",
   "execution_count": 17,
   "metadata": {},
   "outputs": [
    {
     "output_type": "execute_result",
     "data": {
      "text/plain": [
       "65007.45"
      ]
     },
     "metadata": {},
     "execution_count": 17
    }
   ],
   "source": [
    "df['BasePay'].median()"
   ]
  },
  {
   "cell_type": "code",
   "execution_count": 9,
   "metadata": {},
   "outputs": [
    {
     "output_type": "execute_result",
     "data": {
      "text/plain": [
       "95.9090909090909"
      ]
     },
     "metadata": {},
     "execution_count": 9
    }
   ],
   "source": [
    "st.mean([1,2,3,4,5,6,7,8,9,10,1000]) #kalau ditambah data pencilan, nilai mean berubah jaduh (5.5--> 95.9)"
   ]
  },
  {
   "cell_type": "code",
   "execution_count": 10,
   "metadata": {},
   "outputs": [
    {
     "output_type": "execute_result",
     "data": {
      "text/plain": [
       "6"
      ]
     },
     "metadata": {},
     "execution_count": 10
    }
   ],
   "source": [
    "st.median([1,2,3,4,5,6,7,8,9,10,1000]) # Nilai median tidak berubah jauh ketika ditambahkan dengan data ekstrim"
   ]
  },
  {
   "source": [
    "### **c. Mode**\n",
    "The most common value in a set of data. This gives us a great idea of where the center lies. ``Lebih sering dipakai dalam konteks data categorical``."
   ],
   "cell_type": "markdown",
   "metadata": {}
  },
  {
   "cell_type": "code",
   "execution_count": 20,
   "metadata": {},
   "outputs": [
    {
     "output_type": "execute_result",
     "data": {
      "text/plain": [
       "0    Transit Operator\n",
       "dtype: object"
      ]
     },
     "metadata": {},
     "execution_count": 20
    }
   ],
   "source": [
    "df.JobTitle.mode()"
   ]
  },
  {
   "cell_type": "code",
   "execution_count": 19,
   "metadata": {},
   "outputs": [
    {
     "output_type": "execute_result",
     "data": {
      "text/plain": [
       "7"
      ]
     },
     "metadata": {},
     "execution_count": 19
    }
   ],
   "source": [
    "data1 = [1,2,3,5,7,9,7,2,7,6]\n",
    "st.mode(data1)"
   ]
  },
  {
   "source": [
    "### 2. Spread\n",
    "To characterizes how apart the members of the distribution are from the center and from each other. Two dataset of the same variable may possess similar position of center but remarkably different with respect to variability.  \n",
    "We can describe it by using, for example Range, Quartile, Variance, and Standard Deviation\n",
    "\n"
   ],
   "cell_type": "markdown",
   "metadata": {}
  },
  {
   "source": [
    "### **a. Variance**\n",
    "\n",
    "Variance measures how far each number in the set is from the mean and, therefore, from every other number in the set. You can use this when your data is a sample out of a population"
   ],
   "cell_type": "markdown",
   "metadata": {}
  },
  {
   "cell_type": "code",
   "execution_count": 11,
   "metadata": {},
   "outputs": [
    {
     "output_type": "execute_result",
     "data": {
      "text/plain": [
       "1828814049.0424156"
      ]
     },
     "metadata": {},
     "execution_count": 11
    }
   ],
   "source": [
    "df['BasePay'].var()"
   ]
  },
  {
   "cell_type": "code",
   "execution_count": 12,
   "metadata": {},
   "outputs": [
    {
     "output_type": "execute_result",
     "data": {
      "text/plain": [
       "7.433333333333334"
      ]
     },
     "metadata": {},
     "execution_count": 12
    }
   ],
   "source": [
    "st.variance([1,2,3,5,7,9,7,2,7,6])"
   ]
  },
  {
   "cell_type": "code",
   "execution_count": 14,
   "metadata": {},
   "outputs": [
    {
     "output_type": "execute_result",
     "data": {
      "text/plain": [
       "38.125"
      ]
     },
     "metadata": {},
     "execution_count": 14
    }
   ],
   "source": [
    "st.variance([1,9,12,10,20,2,14,11])"
   ]
  },
  {
   "cell_type": "code",
   "execution_count": 15,
   "metadata": {},
   "outputs": [
    {
     "output_type": "execute_result",
     "data": {
      "text/plain": [
       "7.566666666666666"
      ]
     },
     "metadata": {},
     "execution_count": 15
    }
   ],
   "source": [
    "st.variance([1,2,3,5,4,9,8,2,7,6])"
   ]
  },
  {
   "cell_type": "code",
   "execution_count": null,
   "metadata": {},
   "outputs": [],
   "source": []
  },
  {
   "source": [
    "### **b. Standar deviation**\n",
    "\n",
    "Standard deviation is the most frequently used measure of variability. It can be considered as a kind of average of the absolute deviations of observed values from the mean of the variable in question\n"
   ],
   "cell_type": "markdown",
   "metadata": {}
  },
  {
   "source": [
    "var= (x(i)-X(rata2))^2/n-1 ---> unit^2, sementara unit data kita tidak memiliki pangkat\n",
    "\n",
    "stdev= variance^1/2--> unit kembali ke pangkat awal, bisa dibandingkan dengan data yang berpangkat sama"
   ],
   "cell_type": "markdown",
   "metadata": {}
  },
  {
   "cell_type": "code",
   "execution_count": 17,
   "metadata": {},
   "outputs": [
    {
     "output_type": "execute_result",
     "data": {
      "text/plain": [
       "42764.63549525958"
      ]
     },
     "metadata": {},
     "execution_count": 17
    }
   ],
   "source": [
    "df['BasePay'].std()"
   ]
  },
  {
   "cell_type": "code",
   "execution_count": 18,
   "metadata": {},
   "outputs": [
    {
     "output_type": "execute_result",
     "data": {
      "text/plain": [
       "2.7264140062238043"
      ]
     },
     "metadata": {},
     "execution_count": 18
    }
   ],
   "source": [
    "st.stdev([1,2,3,5,7,9,7,2,7,6])"
   ]
  },
  {
   "cell_type": "code",
   "execution_count": 19,
   "metadata": {},
   "outputs": [
    {
     "output_type": "execute_result",
     "data": {
      "text/plain": [
       "2.7507574714370344"
      ]
     },
     "metadata": {},
     "execution_count": 19
    }
   ],
   "source": [
    "st.stdev([1,2,3,5,4,9,8,2,7,6])"
   ]
  },
  {
   "source": [
    "## **Take Class Exercise**: Analyze Salaries Dataset\n",
    "\n",
    "### ``Show your code and answer this questions!``\n",
    "### Open Salaries.csv dan Create DataFrame\n",
    "\n",
    "#### 1. Berapa nilai tengah ``BasePay`` di tahun ``2013``?\n",
    "#### 2. Berapa rata-rata ``OtherPay`` di tahun ``2014``?\n",
    "#### 3. Berapa rata-rata ``Benefits`` pada karyawan  di tahun 2014  yang ``TotalPay``-nya di atas rata-rata karyawan?\n",
    "#### 4. Berapa nilai standart deviasi ``TotalPay`` pada karyawan ``Transit Operator``?\n",
    "#### 5. Siapa 5 orang yang berprofesi ``Special Nurse`` dan ``BasePay``-nya di atas rata-rata?\n",
    "#### 6. Sebutkan 5 profesi (``JobTitle``) dengan gaji tertinggi (``TotalPay``)?\n",
    "#### 7. Berapa nilai variance ``BasePay`` karyawan ``Public Svc Aide-Public Works`` di tahun 2014?\n",
    "#### 8. Siapa 5 orang yang berprofesi ``Police Officer 3`` dengan ``TotalPay`` terendah?\n",
    "#### 9. Berapa standart deviasi ``BasePay`` karyawan ``Registered Nurse`` di tahun 2012 yang ``Benefits``-nya di atas rata-rata?\n",
    "#### 10. Profesi apa yang paling banyak muncul (mode) dengan nilai ``BasePay`` dan ``Benefits``-nya di atas rata-rata? "
   ],
   "cell_type": "markdown",
   "metadata": {}
  },
  {
   "cell_type": "code",
   "execution_count": 23,
   "metadata": {},
   "outputs": [
    {
     "output_type": "execute_result",
     "data": {
      "text/plain": [
       "   Id    EmployeeName                                        JobTitle  \\\n",
       "0   1  NATHANIEL FORD  GENERAL MANAGER-METROPOLITAN TRANSIT AUTHORITY   \n",
       "1   2    GARY JIMENEZ                 CAPTAIN III (POLICE DEPARTMENT)   \n",
       "\n",
       "     BasePay  OvertimePay   OtherPay  Benefits   TotalPay  TotalPayBenefits  \\\n",
       "0  167411.18         0.00  400184.25       NaN  567595.43         567595.43   \n",
       "1  155966.02    245131.88  137811.38       NaN  538909.28         538909.28   \n",
       "\n",
       "   Year  Notes         Agency  Status  \n",
       "0  2011    NaN  San Francisco     NaN  \n",
       "1  2011    NaN  San Francisco     NaN  "
      ],
      "text/html": "<div>\n<style scoped>\n    .dataframe tbody tr th:only-of-type {\n        vertical-align: middle;\n    }\n\n    .dataframe tbody tr th {\n        vertical-align: top;\n    }\n\n    .dataframe thead th {\n        text-align: right;\n    }\n</style>\n<table border=\"1\" class=\"dataframe\">\n  <thead>\n    <tr style=\"text-align: right;\">\n      <th></th>\n      <th>Id</th>\n      <th>EmployeeName</th>\n      <th>JobTitle</th>\n      <th>BasePay</th>\n      <th>OvertimePay</th>\n      <th>OtherPay</th>\n      <th>Benefits</th>\n      <th>TotalPay</th>\n      <th>TotalPayBenefits</th>\n      <th>Year</th>\n      <th>Notes</th>\n      <th>Agency</th>\n      <th>Status</th>\n    </tr>\n  </thead>\n  <tbody>\n    <tr>\n      <th>0</th>\n      <td>1</td>\n      <td>NATHANIEL FORD</td>\n      <td>GENERAL MANAGER-METROPOLITAN TRANSIT AUTHORITY</td>\n      <td>167411.18</td>\n      <td>0.00</td>\n      <td>400184.25</td>\n      <td>NaN</td>\n      <td>567595.43</td>\n      <td>567595.43</td>\n      <td>2011</td>\n      <td>NaN</td>\n      <td>San Francisco</td>\n      <td>NaN</td>\n    </tr>\n    <tr>\n      <th>1</th>\n      <td>2</td>\n      <td>GARY JIMENEZ</td>\n      <td>CAPTAIN III (POLICE DEPARTMENT)</td>\n      <td>155966.02</td>\n      <td>245131.88</td>\n      <td>137811.38</td>\n      <td>NaN</td>\n      <td>538909.28</td>\n      <td>538909.28</td>\n      <td>2011</td>\n      <td>NaN</td>\n      <td>San Francisco</td>\n      <td>NaN</td>\n    </tr>\n  </tbody>\n</table>\n</div>"
     },
     "metadata": {},
     "execution_count": 23
    }
   ],
   "source": [
    "df.head(2)"
   ]
  },
  {
   "cell_type": "code",
   "execution_count": 26,
   "metadata": {},
   "outputs": [
    {
     "output_type": "execute_result",
     "data": {
      "text/plain": [
       "67669.0"
      ]
     },
     "metadata": {},
     "execution_count": 26
    }
   ],
   "source": [
    "#Berapa nilai tengah BasePay di tahun 2013?\n",
    "df[df['Year']==2013]['BasePay'].median()"
   ]
  },
  {
   "cell_type": "code",
   "execution_count": 29,
   "metadata": {},
   "outputs": [
    {
     "output_type": "execute_result",
     "data": {
      "text/plain": [
       "3505.4212505574583"
      ]
     },
     "metadata": {},
     "execution_count": 29
    }
   ],
   "source": [
    "#  Berapa rata-rata OtherPay di tahun 2014\n",
    "df.groupby('Year').mean()['OtherPay'][2014]"
   ]
  },
  {
   "cell_type": "code",
   "execution_count": 30,
   "metadata": {},
   "outputs": [
    {
     "output_type": "execute_result",
     "data": {
      "text/plain": [
       "3505.4212505574583"
      ]
     },
     "metadata": {},
     "execution_count": 30
    }
   ],
   "source": [
    "df[df['Year']==2014]['OtherPay'].mean()\n"
   ]
  },
  {
   "cell_type": "code",
   "execution_count": 32,
   "metadata": {},
   "outputs": [
    {
     "output_type": "execute_result",
     "data": {
      "text/plain": [
       "36934.831982886106"
      ]
     },
     "metadata": {},
     "execution_count": 32
    }
   ],
   "source": [
    "# Berapa rata-rata Benefits pada karyawan  di tahun 2014  yang TotalPay-nya di atas rata-rata karyawan?\n",
    "df[(df['Year']==2014)&(df['TotalPay']>df['TotalPay'].mean())]['Benefits'].mean()"
   ]
  },
  {
   "cell_type": "code",
   "execution_count": 34,
   "metadata": {},
   "outputs": [
    {
     "output_type": "execute_result",
     "data": {
      "text/plain": [
       "30035.2498993624"
      ]
     },
     "metadata": {},
     "execution_count": 34
    }
   ],
   "source": [
    "# Berapa nilai standart deviasi TotalPay pada karyawan Transit Operator?\n",
    "df[df['JobTitle']=='Transit Operator']['TotalPay'].std()"
   ]
  },
  {
   "cell_type": "code",
   "execution_count": 45,
   "metadata": {},
   "outputs": [
    {
     "output_type": "execute_result",
     "data": {
      "text/plain": [
       "            EmployeeName    BasePay\n",
       "39881  Christian Kitchin  133932.19\n",
       "41793       Laurie Towns  135691.93\n",
       "42130        Leah Custis  127700.35\n",
       "42394      Jennifer Chiu  124073.96\n",
       "42535    Genevieve Hamer  128163.62"
      ],
      "text/html": "<div>\n<style scoped>\n    .dataframe tbody tr th:only-of-type {\n        vertical-align: middle;\n    }\n\n    .dataframe tbody tr th {\n        vertical-align: top;\n    }\n\n    .dataframe thead th {\n        text-align: right;\n    }\n</style>\n<table border=\"1\" class=\"dataframe\">\n  <thead>\n    <tr style=\"text-align: right;\">\n      <th></th>\n      <th>EmployeeName</th>\n      <th>BasePay</th>\n    </tr>\n  </thead>\n  <tbody>\n    <tr>\n      <th>39881</th>\n      <td>Christian Kitchin</td>\n      <td>133932.19</td>\n    </tr>\n    <tr>\n      <th>41793</th>\n      <td>Laurie Towns</td>\n      <td>135691.93</td>\n    </tr>\n    <tr>\n      <th>42130</th>\n      <td>Leah Custis</td>\n      <td>127700.35</td>\n    </tr>\n    <tr>\n      <th>42394</th>\n      <td>Jennifer Chiu</td>\n      <td>124073.96</td>\n    </tr>\n    <tr>\n      <th>42535</th>\n      <td>Genevieve Hamer</td>\n      <td>128163.62</td>\n    </tr>\n  </tbody>\n</table>\n</div>"
     },
     "metadata": {},
     "execution_count": 45
    }
   ],
   "source": [
    "# Siapa 5 orang yang berprofesi Special Nurse dan BasePay-nya di atas rata-rata?\n",
    "df[(df['JobTitle']=='Special Nurse') & (df['BasePay']>df.BasePay.mean())][['EmployeeName','BasePay']].head()"
   ]
  },
  {
   "cell_type": "code",
   "execution_count": 48,
   "metadata": {},
   "outputs": [
    {
     "output_type": "execute_result",
     "data": {
      "text/plain": [
       "0         GENERAL MANAGER-METROPOLITAN TRANSIT AUTHORITY\n",
       "1                        CAPTAIN III (POLICE DEPARTMENT)\n",
       "110531                                    Deputy Chief 3\n",
       "110532                                 Asst Med Examiner\n",
       "36159                       Lieutenant, Fire Suppression\n",
       "Name: JobTitle, dtype: object"
      ]
     },
     "metadata": {},
     "execution_count": 48
    }
   ],
   "source": [
    "# Sebutkan 5 profesi (JobTitle) dengan gaji tertinggi (TotalPay)\n",
    "df.loc[:, ['TotalPay', 'JobTitle']].sort_values('TotalPay', ascending = False).head(5).loc[:, 'JobTitle']"
   ]
  },
  {
   "cell_type": "code",
   "execution_count": 53,
   "metadata": {},
   "outputs": [
    {
     "output_type": "execute_result",
     "data": {
      "text/plain": [
       "0         GENERAL MANAGER-METROPOLITAN TRANSIT AUTHORITY\n",
       "1                        CAPTAIN III (POLICE DEPARTMENT)\n",
       "110531                                    Deputy Chief 3\n",
       "110532                                 Asst Med Examiner\n",
       "36159                       Lieutenant, Fire Suppression\n",
       "Name: JobTitle, dtype: object"
      ]
     },
     "metadata": {},
     "execution_count": 53
    }
   ],
   "source": [
    "df.sort_values('TotalPay',ascending=False).head()['JobTitle']"
   ]
  },
  {
   "cell_type": "code",
   "execution_count": 54,
   "metadata": {},
   "outputs": [
    {
     "output_type": "execute_result",
     "data": {
      "text/plain": [
       "                                                     TotalPay\n",
       "JobTitle                                                     \n",
       "GENERAL MANAGER-METROPOLITAN TRANSIT AUTHORITY  399211.275000\n",
       "Chief Investment Officer                        339653.700000\n",
       "Chief of Police                                 329183.646667\n",
       "Chief, Fire Department                          325971.683333\n",
       "DEPUTY DIRECTOR OF INVESTMENTS                  307899.460000"
      ],
      "text/html": "<div>\n<style scoped>\n    .dataframe tbody tr th:only-of-type {\n        vertical-align: middle;\n    }\n\n    .dataframe tbody tr th {\n        vertical-align: top;\n    }\n\n    .dataframe thead th {\n        text-align: right;\n    }\n</style>\n<table border=\"1\" class=\"dataframe\">\n  <thead>\n    <tr style=\"text-align: right;\">\n      <th></th>\n      <th>TotalPay</th>\n    </tr>\n    <tr>\n      <th>JobTitle</th>\n      <th></th>\n    </tr>\n  </thead>\n  <tbody>\n    <tr>\n      <th>GENERAL MANAGER-METROPOLITAN TRANSIT AUTHORITY</th>\n      <td>399211.275000</td>\n    </tr>\n    <tr>\n      <th>Chief Investment Officer</th>\n      <td>339653.700000</td>\n    </tr>\n    <tr>\n      <th>Chief of Police</th>\n      <td>329183.646667</td>\n    </tr>\n    <tr>\n      <th>Chief, Fire Department</th>\n      <td>325971.683333</td>\n    </tr>\n    <tr>\n      <th>DEPUTY DIRECTOR OF INVESTMENTS</th>\n      <td>307899.460000</td>\n    </tr>\n  </tbody>\n</table>\n</div>"
     },
     "metadata": {},
     "execution_count": 54
    }
   ],
   "source": [
    "# Sebutkan 5 profesi (JobTitle) dengan rata-rata gaji tertinggi (TotalPay)?\n",
    "df.groupby('JobTitle')[['JobTitle','TotalPay']].mean().sort_values('TotalPay', ascending=False).head()"
   ]
  },
  {
   "cell_type": "code",
   "execution_count": 65,
   "metadata": {},
   "outputs": [
    {
     "output_type": "execute_result",
     "data": {
      "text/plain": [
       "45111291.10909396"
      ]
     },
     "metadata": {},
     "execution_count": 65
    }
   ],
   "source": [
    "# Berapa nilai variance BasePay karyawan Public Svc Aide-Public Works di tahun 2014?\n",
    "df[(df['JobTitle']=='Public Svc Aide-Public Works') & (df['Year']==2014)].var()['BasePay']"
   ]
  },
  {
   "cell_type": "code",
   "execution_count": 66,
   "metadata": {},
   "outputs": [
    {
     "output_type": "execute_result",
     "data": {
      "text/plain": [
       "5"
      ]
     },
     "metadata": {},
     "execution_count": 66
    }
   ],
   "source": [
    "np.random.randint(1,17)"
   ]
  },
  {
   "cell_type": "code",
   "execution_count": 69,
   "metadata": {},
   "outputs": [
    {
     "output_type": "execute_result",
     "data": {
      "text/plain": [
       "            EmployeeName  TotalPay\n",
       "110530     David P Kucia      0.00\n",
       "110529    Mark E Laherty      0.00\n",
       "110528  Timothy E Gibson      0.00\n",
       "106766      Lisa M Curry      0.00\n",
       "72907       William Pyne     30.78"
      ],
      "text/html": "<div>\n<style scoped>\n    .dataframe tbody tr th:only-of-type {\n        vertical-align: middle;\n    }\n\n    .dataframe tbody tr th {\n        vertical-align: top;\n    }\n\n    .dataframe thead th {\n        text-align: right;\n    }\n</style>\n<table border=\"1\" class=\"dataframe\">\n  <thead>\n    <tr style=\"text-align: right;\">\n      <th></th>\n      <th>EmployeeName</th>\n      <th>TotalPay</th>\n    </tr>\n  </thead>\n  <tbody>\n    <tr>\n      <th>110530</th>\n      <td>David P Kucia</td>\n      <td>0.00</td>\n    </tr>\n    <tr>\n      <th>110529</th>\n      <td>Mark E Laherty</td>\n      <td>0.00</td>\n    </tr>\n    <tr>\n      <th>110528</th>\n      <td>Timothy E Gibson</td>\n      <td>0.00</td>\n    </tr>\n    <tr>\n      <th>106766</th>\n      <td>Lisa M Curry</td>\n      <td>0.00</td>\n    </tr>\n    <tr>\n      <th>72907</th>\n      <td>William Pyne</td>\n      <td>30.78</td>\n    </tr>\n  </tbody>\n</table>\n</div>"
     },
     "metadata": {},
     "execution_count": 69
    }
   ],
   "source": [
    "# Siapa 5 orang yang berprofesi Police Officer 3 dengan TotalPay terendah?\n",
    "df[df['JobTitle']=='Police Officer 3'].sort_values('TotalPay', ascending=True).head()[['EmployeeName', 'TotalPay']]\n"
   ]
  },
  {
   "cell_type": "code",
   "execution_count": 70,
   "metadata": {},
   "outputs": [
    {
     "output_type": "execute_result",
     "data": {
      "text/plain": [
       "            EmployeeName  TotalPay\n",
       "72907       William Pyne     30.78\n",
       "72895     Anthony Nelson     38.11\n",
       "72867    Richard Sheehan     60.09\n",
       "72864        Robert Wood     63.02\n",
       "72855  Richard Vanwinkle     67.42"
      ],
      "text/html": "<div>\n<style scoped>\n    .dataframe tbody tr th:only-of-type {\n        vertical-align: middle;\n    }\n\n    .dataframe tbody tr th {\n        vertical-align: top;\n    }\n\n    .dataframe thead th {\n        text-align: right;\n    }\n</style>\n<table border=\"1\" class=\"dataframe\">\n  <thead>\n    <tr style=\"text-align: right;\">\n      <th></th>\n      <th>EmployeeName</th>\n      <th>TotalPay</th>\n    </tr>\n  </thead>\n  <tbody>\n    <tr>\n      <th>72907</th>\n      <td>William Pyne</td>\n      <td>30.78</td>\n    </tr>\n    <tr>\n      <th>72895</th>\n      <td>Anthony Nelson</td>\n      <td>38.11</td>\n    </tr>\n    <tr>\n      <th>72867</th>\n      <td>Richard Sheehan</td>\n      <td>60.09</td>\n    </tr>\n    <tr>\n      <th>72864</th>\n      <td>Robert Wood</td>\n      <td>63.02</td>\n    </tr>\n    <tr>\n      <th>72855</th>\n      <td>Richard Vanwinkle</td>\n      <td>67.42</td>\n    </tr>\n  </tbody>\n</table>\n</div>"
     },
     "metadata": {},
     "execution_count": 70
    }
   ],
   "source": [
    "df[(df['JobTitle']=='Police Officer 3') & (df['TotalPay']>0)].sort_values('TotalPay', ascending=True).head()[['EmployeeName', 'TotalPay']]"
   ]
  },
  {
   "cell_type": "code",
   "execution_count": 74,
   "metadata": {},
   "outputs": [
    {
     "output_type": "execute_result",
     "data": {
      "text/plain": [
       "17852.797744061118"
      ]
     },
     "metadata": {},
     "execution_count": 74
    }
   ],
   "source": [
    "# Berapa standart deviasi BasePay karyawan Registered Nurse di tahun 2012 yang Benefits-nya di atas rata-rata?\n",
    "df[(df['JobTitle']=='Registered Nurse')&(df['Year']==2012)& (df['Benefits']>df['Benefits'].mean())].std()['BasePay']"
   ]
  },
  {
   "cell_type": "code",
   "execution_count": 75,
   "metadata": {},
   "outputs": [
    {
     "output_type": "execute_result",
     "data": {
      "text/plain": [
       "'Registered Nurse'"
      ]
     },
     "metadata": {},
     "execution_count": 75
    }
   ],
   "source": [
    "# Profesi apa yang paling banyak muncul (mode) dengan nilai BasePay dan Benefits-nya di atas rata-rata?\n",
    "df.loc[(df.BasePay > df.BasePay.mean()) & (df.Benefits > df.Benefits.mean())].describe(include='O').loc[:, 'JobTitle'].loc['top']\n"
   ]
  },
  {
   "cell_type": "code",
   "execution_count": 78,
   "metadata": {},
   "outputs": [
    {
     "output_type": "execute_result",
     "data": {
      "text/plain": [
       "'Registered Nurse'"
      ]
     },
     "metadata": {},
     "execution_count": 78
    }
   ],
   "source": [
    "df.loc[(df.BasePay > df.BasePay.mean()) & (df.Benefits > df.Benefits.mean())].describe(include=object)['JobTitle']['top']"
   ]
  },
  {
   "cell_type": "code",
   "execution_count": 81,
   "metadata": {},
   "outputs": [
    {
     "output_type": "execute_result",
     "data": {
      "text/plain": [
       "       EmployeeName          JobTitle         Agency\n",
       "count        148654            148654         148654\n",
       "unique       110811              2159              1\n",
       "top       Kevin Lee  Transit Operator  San Francisco\n",
       "freq             13              7036         148654"
      ],
      "text/html": "<div>\n<style scoped>\n    .dataframe tbody tr th:only-of-type {\n        vertical-align: middle;\n    }\n\n    .dataframe tbody tr th {\n        vertical-align: top;\n    }\n\n    .dataframe thead th {\n        text-align: right;\n    }\n</style>\n<table border=\"1\" class=\"dataframe\">\n  <thead>\n    <tr style=\"text-align: right;\">\n      <th></th>\n      <th>EmployeeName</th>\n      <th>JobTitle</th>\n      <th>Agency</th>\n    </tr>\n  </thead>\n  <tbody>\n    <tr>\n      <th>count</th>\n      <td>148654</td>\n      <td>148654</td>\n      <td>148654</td>\n    </tr>\n    <tr>\n      <th>unique</th>\n      <td>110811</td>\n      <td>2159</td>\n      <td>1</td>\n    </tr>\n    <tr>\n      <th>top</th>\n      <td>Kevin Lee</td>\n      <td>Transit Operator</td>\n      <td>San Francisco</td>\n    </tr>\n    <tr>\n      <th>freq</th>\n      <td>13</td>\n      <td>7036</td>\n      <td>148654</td>\n    </tr>\n  </tbody>\n</table>\n</div>"
     },
     "metadata": {},
     "execution_count": 81
    }
   ],
   "source": [
    "df.describe(include='object')"
   ]
  },
  {
   "cell_type": "code",
   "execution_count": 79,
   "metadata": {},
   "outputs": [
    {
     "output_type": "execute_result",
     "data": {
      "text/plain": [
       "0    Registered Nurse\n",
       "dtype: object"
      ]
     },
     "metadata": {},
     "execution_count": 79
    }
   ],
   "source": [
    "df[(df['BasePay'] > df['BasePay'].mean()) & (df['Benefits'] > df['Benefits'].mean())]['JobTitle'].mode()"
   ]
  },
  {
   "source": [
    "# Take Home Exercise\n",
    "# Buat Fungsi untuk mencari Mean, Median dan Modus, tanpa import library"
   ],
   "cell_type": "markdown",
   "metadata": {}
  },
  {
   "source": [
    "### **Reference**:\n",
    "- George Seif, \"The 5 Basic Statistics Concepts Data Scientists Need to Know\", https://towardsdatascience.com/the-5-basic-statistics-concepts-data-scientists-need-to-know-2c96740377ae\n",
    "- Diogo Menezes Borges, \"Introduction to Statistics for Data Science\", https://www.kdnuggets.com/2018/12/introduction-statistics-data-science.html\n",
    "-  DataFlair Team, \"Python Descriptive Statistics – Measuring Central Tendency & Variability\", https://data-flair.training/blogs/python-descriptive-statistics/\n",
    "- Gaël Varoquaux, \"3.1. Statistics in Python\", https://scipy-lectures.org/packages/statistics/index.html\n",
    "- Mirko Stojiljković , \"Python Statistics Fundamentals: How to Describe Your Data\", https://realpython.com/python-statistics/\n",
    "- Karlijn Willems, \"40+ Python Statistics For Data Science Resources\", https://www.datacamp.com/community/tutorials/python-statistics-data-science\n",
    "- https://www.investopedia.com/terms/v/variance.asp"
   ],
   "cell_type": "markdown",
   "metadata": {}
  }
 ]
}